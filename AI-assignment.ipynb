{
  "cells": [
    {
      "cell_type": "code",
      "execution_count": 8,
      "metadata": {
        "colab": {
          "base_uri": "https://localhost:8080/"
        },
        "id": "74r5U9wABiYi",
        "outputId": "25caab10-bfac-43c0-c26f-3cbfa0850783"
      },
      "outputs": [
        {
          "name": "stdout",
          "output_type": "stream",
          "text": [
            "Enter the starting number 1\n",
            "Enter the last number 10\n",
            "Prime numbers in the range1 and 10:[2, 3, 5, 7]\n"
          ]
        }
      ],
      "source": [
        "#Prime number\n",
        "def is_prime(n):\n",
        "    if n<2:\n",
        "        return False\n",
        "    else:\n",
        "        for i in range(2,int(n**0.5)+1):\n",
        "            if n%i==0:\n",
        "                return False\n",
        "        return True\n",
        "\n",
        "def prime(start,end):\n",
        "    prime_n=[]\n",
        "    for n in range (start,end+1):\n",
        "        if is_prime(n):\n",
        "            prime_n.append(n)\n",
        "    return prime_n\n",
        "\n",
        "start=int(input(\"Enter the starting number \"))\n",
        "end=int(input(\"Enter the last number \"))\n",
        "result = prime(start,end)\n",
        "print(f\"Prime numbers in the range{start} and {end}:{result}\")"
      ]
    },
    {
      "cell_type": "code",
      "execution_count": 9,
      "metadata": {
        "colab": {
          "base_uri": "https://localhost:8080/"
        },
        "id": "_nN8yFsHBurG",
        "outputId": "a2385e17-8889-45d7-9598-efea3b03c0fa"
      },
      "outputs": [
        {
          "name": "stdout",
          "output_type": "stream",
          "text": [
            "Enter a number:121\n",
            "The number is palindrome!\n"
          ]
        }
      ],
      "source": [
        "#Palindrome or not\n",
        "num=int(input(\"Enter a number:\"))\n",
        "temp=num\n",
        "rev=0\n",
        "while(num>0):\n",
        "    dig=num%10\n",
        "    rev=rev*10+dig\n",
        "    num=num//10\n",
        "if(temp==rev):\n",
        "    print(\"The number is palindrome!\")\n",
        "else:\n",
        "    print(\"Not a palindrome!\")"
      ]
    },
    {
      "cell_type": "code",
      "execution_count": 10,
      "metadata": {
        "colab": {
          "base_uri": "https://localhost:8080/"
        },
        "id": "bcTETcHzCC1o",
        "outputId": "20d6e167-a664-47ae-dcc8-b3928683a69b"
      },
      "outputs": [
        {
          "name": "stdout",
          "output_type": "stream",
          "text": [
            "Enter No. of Terms: 9\n",
            "Fibonacci Series = 0, 1, 1, 2, 3, 5, 8, 13, 21, "
          ]
        }
      ],
      "source": [
        "10#Fibonacci series\n",
        "ft = 0\n",
        "st = 1\n",
        "n = int(input(\"Enter No. of Terms: \"))\n",
        "\n",
        "print(f\"Fibonacci Series = {ft}, {st}\", end=\", \")\n",
        "\n",
        "for i in range(1, n-1):\n",
        "    nt = ft + st\n",
        "    print(f\"{nt}\", end=\", \")\n",
        "    ft, st = st, nt"
      ]
    },
    {
      "cell_type": "code",
      "execution_count": 11,
      "metadata": {
        "colab": {
          "base_uri": "https://localhost:8080/"
        },
        "id": "JhA3KMJ-CJpv",
        "outputId": "a06a418b-36ce-44c1-e4ac-e69c322736c0"
      },
      "outputs": [
        {
          "name": "stdout",
          "output_type": "stream",
          "text": [
            "Welcome to the Number Guessing Game!\n",
            "I'm thinking of a number between 1 and 100.\n",
            "Make a guess: 50\n",
            "Too high. Try again.\n",
            "Make a guess: 40\n",
            "Too high. Try again.\n",
            "Make a guess: 30\n",
            "Too high. Try again.\n",
            "Make a guess: 20\n",
            "Too high. Try again.\n",
            "Make a guess: 10\n",
            "Too low. Try again.\n",
            "Make a guess: 15\n",
            "Congratulations! You guessed the number correctly.\n"
          ]
        }
      ],
      "source": [
        "#Number guessing game\n",
        "import random\n",
        "\n",
        "def guess_number_game():\n",
        "    number_to_guess = random.randint(1, 100)\n",
        "    guess = None\n",
        "\n",
        "    print(\"Welcome to the Number Guessing Game!\")\n",
        "    print(\"I'm thinking of a number between 1 and 100.\")\n",
        "    while guess != number_to_guess:\n",
        "        try:\n",
        "            guess = int(input(\"Make a guess: \"))\n",
        "            if guess < number_to_guess:\n",
        "                print(\"Too low. Try again.\")\n",
        "            elif guess > number_to_guess:\n",
        "                print(\"Too high. Try again.\")\n",
        "            else:\n",
        "                print(\"Congratulations! You guessed the number correctly.\")\n",
        "                break\n",
        "        except ValueError:\n",
        "            print(\"Please enter a valid number.\")\n",
        "\n",
        "guess_number_game()"
      ]
    },
    {
      "cell_type": "code",
      "execution_count": 11,
      "metadata": {
        "id": "weFoesfNCi5n"
      },
      "outputs": [],
      "source": []
    }
  ],
  "metadata": {
    "colab": {
      "provenance": []
    },
    "kernelspec": {
      "display_name": "Python 3",
      "name": "python3"
    },
    "language_info": {
      "name": "python"
    }
  },
  "nbformat": 4,
  "nbformat_minor": 0
}
